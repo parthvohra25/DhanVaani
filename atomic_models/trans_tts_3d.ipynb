{
 "cells": [
  {
   "cell_type": "markdown",
   "metadata": {},
   "source": [
    "### Text"
   ]
  },
  {
   "cell_type": "code",
   "execution_count": 2,
   "metadata": {},
   "outputs": [],
   "source": [
    "articles_3d_list_eng = [\n",
    "    [\n",
    "        ['TechNews', 'New Advancements in AI Technology', 'Artificial intelligence has been making significant strides...'],\n",
    "        ['ScienceToday', 'Discovering New Exoplanets', 'A team of astronomers recently identified several new exoplanets...'],\n",
    "    ],\n",
    "    [\n",
    "        ['FashionMag', 'Summer Style Trends 2023', 'Get ready for the hottest summer fashion trends of 2023...'],\n",
    "        ['HealthWellness', 'The Benefits of Meditation', 'Meditation has been shown to have numerous positive effects on mental health...'],\n",
    "    ],\n",
    "    [\n",
    "        ['TravelExplorer', 'Hidden Gems of Southeast Asia', 'Explore the lesser-known but stunning destinations in Southeast Asia...'],\n",
    "        ['FoodieDelight', 'Delicious Recipes for Pasta Lovers', 'Indulge in these mouthwatering pasta recipes that will satisfy any craving...'],\n",
    "    ],\n",
    "    [\n",
    "        ['TechNews', 'New Advancements in AI Technology', 'Artificial intelligence has been making significant strides...'],\n",
    "        ['ScienceToday', 'Discovering New Exoplanets', 'A team of astronomers recently identified several new exoplanets...'],\n",
    "    ],\n",
    "    [\n",
    "        ['FashionMag', 'Summer Style Trends 2023', 'Get ready for the hottest summer fashion trends of 2023...'],\n",
    "        ['HealthWellness', 'The Benefits of Meditation', 'Meditation has been shown to have numerous positive effects on mental health...'],\n",
    "    ],\n",
    "    [\n",
    "        ['TravelExplorer', 'Hidden Gems of Southeast Asia', 'Explore the lesser-known but stunning destinations in Southeast Asia...'],\n",
    "        ['FoodieDelight', 'Delicious Recipes for Pasta Lovers', 'Indulge in these mouthwatering pasta recipes that will satisfy any craving...'],\n",
    "    ],\n",
    "    [\n",
    "        ['TechNews', 'New Advancements in AI Technology', 'Artificial intelligence has been making significant strides...'],\n",
    "        ['ScienceToday', 'Discovering New Exoplanets', 'A team of astronomers recently identified several new exoplanets...'],\n",
    "    ],\n",
    "    [\n",
    "        ['FashionMag', 'Summer Style Trends 2023', 'Get ready for the hottest summer fashion trends of 2023...'],\n",
    "        ['HealthWellness', 'The Benefits of Meditation', 'Meditation has been shown to have numerous positive effects on mental health...'],\n",
    "    ],\n",
    "    [\n",
    "        ['TravelExplorer', 'Hidden Gems of Southeast Asia', 'Explore the lesser-known but stunning destinations in Southeast Asia...'],\n",
    "        ['FoodieDelight', 'Delicious Recipes for Pasta Lovers', 'Indulge in these mouthwatering pasta recipes that will satisfy any craving...'],\n",
    "    ]\n",
    "]\n",
    "\n",
    "# Accessing elements:\n",
    "website = articles_3d_list_eng[0][0][0]  # 'TechNews'\n",
    "headline = articles_3d_list_eng[0][0][1]  # 'New Advancements in AI Technology'\n",
    "article_body = articles_3d_list_eng[0][0][2]  # 'Artificial intelligence has been making significant strides...'"
   ]
  },
  {
   "cell_type": "markdown",
   "metadata": {},
   "source": [
    "### Convert 3D list to 2D list"
   ]
  },
  {
   "cell_type": "code",
   "execution_count": 3,
   "metadata": {},
   "outputs": [
    {
     "name": "stdout",
     "output_type": "stream",
     "text": [
      "New Advancements in AI Technology\n",
      "Artificial intelligence has been making significant strides...\n",
      "\n",
      "Discovering New Exoplanets\n",
      "A team of astronomers recently identified several new exoplanets...\n",
      "\n",
      "Summer Style Trends 2023\n",
      "Get ready for the hottest summer fashion trends of 2023...\n",
      "\n",
      "The Benefits of Meditation\n",
      "Meditation has been shown to have numerous positive effects on mental health...\n",
      "\n",
      "Hidden Gems of Southeast Asia\n",
      "Explore the lesser-known but stunning destinations in Southeast Asia...\n",
      "\n",
      "Delicious Recipes for Pasta Lovers\n",
      "Indulge in these mouthwatering pasta recipes that will satisfy any craving...\n",
      "\n",
      "New Advancements in AI Technology\n",
      "Artificial intelligence has been making significant strides...\n",
      "\n",
      "Discovering New Exoplanets\n",
      "A team of astronomers recently identified several new exoplanets...\n",
      "\n",
      "Summer Style Trends 2023\n",
      "Get ready for the hottest summer fashion trends of 2023...\n",
      "\n",
      "The Benefits of Meditation\n",
      "Meditation has been shown to have numerous positive effects on mental health...\n",
      "\n",
      "Hidden Gems of Southeast Asia\n",
      "Explore the lesser-known but stunning destinations in Southeast Asia...\n",
      "\n",
      "Delicious Recipes for Pasta Lovers\n",
      "Indulge in these mouthwatering pasta recipes that will satisfy any craving...\n",
      "\n",
      "New Advancements in AI Technology\n",
      "Artificial intelligence has been making significant strides...\n",
      "\n",
      "Discovering New Exoplanets\n",
      "A team of astronomers recently identified several new exoplanets...\n",
      "\n",
      "Summer Style Trends 2023\n",
      "Get ready for the hottest summer fashion trends of 2023...\n",
      "\n",
      "The Benefits of Meditation\n",
      "Meditation has been shown to have numerous positive effects on mental health...\n",
      "\n",
      "Hidden Gems of Southeast Asia\n",
      "Explore the lesser-known but stunning destinations in Southeast Asia...\n",
      "\n",
      "Delicious Recipes for Pasta Lovers\n",
      "Indulge in these mouthwatering pasta recipes that will satisfy any craving...\n",
      "\n"
     ]
    }
   ],
   "source": [
    "articles_2d_list_eng = []  # Initialize an empty list\n",
    "\n",
    "for i in range(len(articles_3d_list_eng)):\n",
    "    merged_row = []  # Initialize a row for each i\n",
    "    for j in range(len(articles_3d_list_eng[i])):\n",
    "        heading = articles_3d_list_eng[i][j][1]\n",
    "        article = articles_3d_list_eng[i][j][2]\n",
    "        merged_text = f\"{heading}\\n{article}\"  # Remove one line break here\n",
    "        merged_row.append(merged_text)\n",
    "    articles_2d_list_eng.append(merged_row)\n",
    "\n",
    "# Print the merged articles\n",
    "for row in articles_2d_list_eng:\n",
    "    for article in row:\n",
    "        print(article + \"\\n\")  # Add one line break after each article"
   ]
  },
  {
   "cell_type": "markdown",
   "metadata": {},
   "source": [
    "### function of TTS"
   ]
  },
  {
   "cell_type": "code",
   "execution_count": 5,
   "metadata": {},
   "outputs": [],
   "source": [
    "from gtts import gTTS\n",
    "import os\n",
    "from pydub import AudioSegment\n",
    "\n",
    "language = 'en'\n",
    "\n",
    "def speak(text, filename):\n",
    "    tts = gTTS(text=text, lang=language)\n",
    "    tts.save(filename)\n",
    "\n",
    "folders = [\"economy\", \"companies\", \"mutual-funds\",\"ipo\",\"startups\",\"stocks\",\"currency\",\"commodity\",\"world\"]"
   ]
  },
  {
   "cell_type": "markdown",
   "metadata": {},
   "source": [
    "### Convert TTS_English\n"
   ]
  },
  {
   "cell_type": "code",
   "execution_count": 6,
   "metadata": {},
   "outputs": [
    {
     "name": "stdout",
     "output_type": "stream",
     "text": [
      "Audio file 0 in economy saved successfully.\n",
      "Audio file 1 in companies saved successfully.\n",
      "Audio file 0 in economy saved successfully.\n",
      "Audio file 1 in companies saved successfully.\n",
      "Audio file 0 in economy saved successfully.\n",
      "Audio file 1 in companies saved successfully.\n",
      "Audio file 0 in economy saved successfully.\n",
      "Audio file 1 in companies saved successfully.\n",
      "Audio file 0 in economy saved successfully.\n",
      "Audio file 1 in companies saved successfully.\n",
      "Audio file 0 in economy saved successfully.\n",
      "Audio file 1 in companies saved successfully.\n",
      "Audio file 0 in economy saved successfully.\n",
      "Audio file 1 in companies saved successfully.\n",
      "Audio file 0 in economy saved successfully.\n",
      "Audio file 1 in companies saved successfully.\n",
      "Audio file 0 in economy saved successfully.\n",
      "Audio file 1 in companies saved successfully.\n"
     ]
    }
   ],
   "source": [
    "# Specify the custom base location for the folders\n",
    "base_location = r\"C:\\Users\\parth\\OneDrive\\Desktop\\Blackrock\\demo_final\\audio_eng\"\n",
    "\n",
    "for i, (article_group, folder) in enumerate(zip(articles_2d_list_eng, folders)):\n",
    "    for j in range(len(articles_2d_list_eng[i])):\n",
    "        folder_name = folder + \"_eng\" \n",
    "        filename = os.path.join(base_location, folder_name, f\"{j}.mp3\")\n",
    "        \n",
    "        # Create the directory if it doesn't exist\n",
    "        os.makedirs(os.path.dirname(filename), exist_ok=True)\n",
    "        \n",
    "        try:\n",
    "            speak(articles_2d_list_eng[i][j], filename)\n",
    "            print(f\"Audio file {j} in {folders[j]} saved successfully.\")\n",
    "        except Exception as e:\n",
    "            print(f\"Error processing article {j}: {str(e)}\")"
   ]
  },
  {
   "cell_type": "markdown",
   "metadata": {},
   "source": [
    "#### make a new 3d list_hindi"
   ]
  },
  {
   "cell_type": "code",
   "execution_count": 7,
   "metadata": {},
   "outputs": [],
   "source": [
    "articles_3d_list_hin = articles_3d_list_eng"
   ]
  },
  {
   "cell_type": "markdown",
   "metadata": {},
   "source": [
    "### To convert the english data into hindi"
   ]
  },
  {
   "cell_type": "code",
   "execution_count": 8,
   "metadata": {},
   "outputs": [
    {
     "name": "stdout",
     "output_type": "stream",
     "text": [
      "आर्किटेक्चरल आर्किटेक्चर में नई प्रगति\n",
      "कृत्रिम महत्वपूर्ण प्रगति कर रही है\n",
      "नए एक्सोप्लैनेट की खोज\n",
      "खगोलविदों की एक टीम ने हाल ही में कई नए एक्सोप्लैनेट की पहचान की है\n",
      "समर स्टाइल ट्रेंड्स 2023\n",
      "2023 के सबसे हॉट ग्रीष्मकालीन फैशन रुझानों के लिए तैयार हो जाइए\n",
      "ध्यान के लाभ\n",
      "यह देखा गया है कि ध्यान का मानसिक स्वास्थ्य पर कई सकारात्मक प्रभाव पड़ता है\n",
      "दक्षिण पूर्व एशिया के छिपे हुए रत्न\n",
      "दक्षिण पूर्व एशिया में कम-ज्ञात लेकिन आश्चर्यजनक स्थलों का अन्वेषण करें\n",
      "पास्ता प्रेमियों के लिए स्वादिष्ट व्यंजन\n",
      "इन स्वादिष्ट पास्ता व्यंजनों का आनंद लें जो किसी भी लालसा को संतुष्ट करेंगे\n",
      "एआई प्रौद्योगिकी में नई प्रगति\n",
      "कृत्रिम बुद्धिमत्ता महत्वपूर्ण प्रगति कर रही है\n",
      "नए एक्सोप्लैनेट की खोज\n",
      "खगोलविदों की एक टीम ने हाल ही में कई नए एक्सोप्लैनेट की पहचान की है\n",
      "समर स्टाइल ट्रेंड्स 2023\n",
      "2023 के सबसे हॉट ग्रीष्मकालीन फैशन रुझानों के लिए तैयार हो जाइए\n",
      "ध्यान के लाभ\n",
      "यह देखा गया है कि ध्यान का मानसिक स्वास्थ्य पर कई सकारात्मक प्रभाव पड़ता है\n",
      "दक्षिण पूर्व एशिया के छिपे हुए रत्न\n",
      "दक्षिण पूर्व एशिया में कम-ज्ञात लेकिन आश्चर्यजनक स्थलों का अन्वेषण करें\n",
      "पास्ता प्रेमियों के लिए स्वादिष्ट व्यंजन\n",
      "इन स्वादिष्ट पास्ता व्यंजनों का आनंद लें जो किसी भी लालसा को संतुष्ट करेंगे\n",
      "एआई प्रौद्योगिकी में नई प्रगति\n",
      "कृत्रिम बुद्धिमत्ता महत्वपूर्ण प्रगति कर रही है\n",
      "नए एक्सोप्लैनेट की खोज\n",
      "खगोलविदों की एक टीम ने हाल ही में कई नए एक्सोप्लैनेट की पहचान की है\n",
      "समर स्टाइल ट्रेंड्स 2023\n",
      "2023 के सबसे हॉट ग्रीष्मकालीन फैशन रुझानों के लिए तैयार हो जाइए\n",
      "ध्यान के लाभ\n",
      "यह देखा गया है कि ध्यान का मानसिक स्वास्थ्य पर कई सकारात्मक प्रभाव पड़ता है\n",
      "दक्षिण पूर्व एशिया के छिपे हुए रत्न\n",
      "दक्षिण पूर्व एशिया में कम-ज्ञात लेकिन आश्चर्यजनक स्थलों का अन्वेषण करें\n",
      "पास्ता प्रेमियों के लिए स्वादिष्ट व्यंजन\n",
      "इन स्वादिष्ट पास्ता व्यंजनों का आनंद लें जो किसी भी लालसा को संतुष्ट करेंगे\n"
     ]
    }
   ],
   "source": [
    "from englisttohindi.englisttohindi import EngtoHindi\n",
    "\n",
    "def trans_engtohin(data):\n",
    "    sentences = data.split('.')\n",
    "    translated_chunks = []\n",
    "\n",
    "    for sentence in sentences:\n",
    "        if sentence.strip():\n",
    "            translation = EngtoHindi(sentence).convert\n",
    "            translated_chunks.append(translation)\n",
    "\n",
    "    translated_text = '. '.join(translated_chunks)\n",
    "    return translated_text\n",
    "\n",
    "# Assuming articles_3d_list is defined earlier\n",
    "articles_3d_list_hin[0][0][1] = trans_engtohin(articles_3d_list_eng[0][0][1])\n",
    " \n",
    "articles_3d_list_hin[0][0][2] = trans_engtohin(articles_3d_list_eng[0][0][2])\n",
    "\n",
    "for i in range(len(articles_3d_list_eng)):\n",
    "    for j in range(len(articles_3d_list_eng[i])):\n",
    "        articles_3d_list_hin[i][j][1] = trans_engtohin(articles_3d_list_eng[i][j][1])\n",
    "        articles_3d_list_hin[i][j][2] = trans_engtohin(articles_3d_list_eng[i][j][2])\n",
    "        print(articles_3d_list_hin[i][j][1])\n",
    "        print(articles_3d_list_hin[i][j][2])\n",
    "# print(translated_headline)  # Print the translated headline\n"
   ]
  },
  {
   "cell_type": "markdown",
   "metadata": {},
   "source": [
    "### To convert 3D list into 2D list\n"
   ]
  },
  {
   "cell_type": "code",
   "execution_count": 9,
   "metadata": {},
   "outputs": [
    {
     "name": "stdout",
     "output_type": "stream",
     "text": [
      "आर्किटेक्चरल आर्किटेक्चर में नई प्रगति\n",
      "कृत्रिम महत्वपूर्ण प्रगति कर रही है\n",
      "\n",
      "नए एक्सोप्लैनेट की खोज\n",
      "खगोलविदों की एक टीम ने हाल ही में कई नए एक्सोप्लैनेट की पहचान की है\n",
      "\n",
      "समर स्टाइल ट्रेंड्स 2023\n",
      "2023 के सबसे हॉट ग्रीष्मकालीन फैशन रुझानों के लिए तैयार हो जाइए\n",
      "\n",
      "ध्यान के लाभ\n",
      "यह देखा गया है कि ध्यान का मानसिक स्वास्थ्य पर कई सकारात्मक प्रभाव पड़ता है\n",
      "\n",
      "दक्षिण पूर्व एशिया के छिपे हुए रत्न\n",
      "दक्षिण पूर्व एशिया में कम-ज्ञात लेकिन आश्चर्यजनक स्थलों का अन्वेषण करें\n",
      "\n",
      "पास्ता प्रेमियों के लिए स्वादिष्ट व्यंजन\n",
      "इन स्वादिष्ट पास्ता व्यंजनों का आनंद लें जो किसी भी लालसा को संतुष्ट करेंगे\n",
      "\n",
      "एआई प्रौद्योगिकी में नई प्रगति\n",
      "कृत्रिम बुद्धिमत्ता महत्वपूर्ण प्रगति कर रही है\n",
      "\n",
      "नए एक्सोप्लैनेट की खोज\n",
      "खगोलविदों की एक टीम ने हाल ही में कई नए एक्सोप्लैनेट की पहचान की है\n",
      "\n",
      "समर स्टाइल ट्रेंड्स 2023\n",
      "2023 के सबसे हॉट ग्रीष्मकालीन फैशन रुझानों के लिए तैयार हो जाइए\n",
      "\n",
      "ध्यान के लाभ\n",
      "यह देखा गया है कि ध्यान का मानसिक स्वास्थ्य पर कई सकारात्मक प्रभाव पड़ता है\n",
      "\n",
      "दक्षिण पूर्व एशिया के छिपे हुए रत्न\n",
      "दक्षिण पूर्व एशिया में कम-ज्ञात लेकिन आश्चर्यजनक स्थलों का अन्वेषण करें\n",
      "\n",
      "पास्ता प्रेमियों के लिए स्वादिष्ट व्यंजन\n",
      "इन स्वादिष्ट पास्ता व्यंजनों का आनंद लें जो किसी भी लालसा को संतुष्ट करेंगे\n",
      "\n",
      "एआई प्रौद्योगिकी में नई प्रगति\n",
      "कृत्रिम बुद्धिमत्ता महत्वपूर्ण प्रगति कर रही है\n",
      "\n",
      "नए एक्सोप्लैनेट की खोज\n",
      "खगोलविदों की एक टीम ने हाल ही में कई नए एक्सोप्लैनेट की पहचान की है\n",
      "\n",
      "समर स्टाइल ट्रेंड्स 2023\n",
      "2023 के सबसे हॉट ग्रीष्मकालीन फैशन रुझानों के लिए तैयार हो जाइए\n",
      "\n",
      "ध्यान के लाभ\n",
      "यह देखा गया है कि ध्यान का मानसिक स्वास्थ्य पर कई सकारात्मक प्रभाव पड़ता है\n",
      "\n",
      "दक्षिण पूर्व एशिया के छिपे हुए रत्न\n",
      "दक्षिण पूर्व एशिया में कम-ज्ञात लेकिन आश्चर्यजनक स्थलों का अन्वेषण करें\n",
      "\n",
      "पास्ता प्रेमियों के लिए स्वादिष्ट व्यंजन\n",
      "इन स्वादिष्ट पास्ता व्यंजनों का आनंद लें जो किसी भी लालसा को संतुष्ट करेंगे\n",
      "\n"
     ]
    }
   ],
   "source": [
    "articles_2d_list_hin = []  # Initialize an empty list\n",
    "\n",
    "for i in range(len(articles_3d_list_hin)):\n",
    "    merged_row = []  # Initialize a row for each i\n",
    "    for j in range(len(articles_3d_list_hin[i])):\n",
    "        heading = articles_3d_list_hin[i][j][1]\n",
    "        article = articles_3d_list_hin[i][j][2]\n",
    "        merged_text = f\"{heading}\\n{article}\"\n",
    "        merged_row.append(merged_text)\n",
    "    articles_2d_list_hin.append(merged_row)\n",
    "\n",
    "# Print the merged articles\n",
    "for row in articles_2d_list_hin:\n",
    "    for article in row:\n",
    "        print(article + \"\\n\")"
   ]
  },
  {
   "cell_type": "markdown",
   "metadata": {},
   "source": [
    "### Convert TTS_Hindi"
   ]
  },
  {
   "cell_type": "code",
   "execution_count": 10,
   "metadata": {},
   "outputs": [
    {
     "name": "stdout",
     "output_type": "stream",
     "text": [
      "Audio file 0 in economy saved successfully.\n",
      "Audio file 1 in companies saved successfully.\n",
      "Audio file 0 in economy saved successfully.\n",
      "Audio file 1 in companies saved successfully.\n",
      "Audio file 0 in economy saved successfully.\n",
      "Audio file 1 in companies saved successfully.\n",
      "Audio file 0 in economy saved successfully.\n",
      "Audio file 1 in companies saved successfully.\n",
      "Audio file 0 in economy saved successfully.\n",
      "Audio file 1 in companies saved successfully.\n",
      "Audio file 0 in economy saved successfully.\n",
      "Audio file 1 in companies saved successfully.\n",
      "Audio file 0 in economy saved successfully.\n",
      "Audio file 1 in companies saved successfully.\n",
      "Audio file 0 in economy saved successfully.\n",
      "Audio file 1 in companies saved successfully.\n",
      "Audio file 0 in economy saved successfully.\n",
      "Audio file 1 in companies saved successfully.\n"
     ]
    }
   ],
   "source": [
    "# Specify the custom base location for the folders\n",
    "base_location = r\"C:\\Users\\parth\\OneDrive\\Desktop\\Blackrock\\demo_final\\audio_hin\"\n",
    "\n",
    "for i, (article_group, folder) in enumerate(zip(articles_2d_list_hin, folders)):\n",
    "    for j in range(len(articles_2d_list_hin[i])):\n",
    "        folder_name = folder + \"_hin\" \n",
    "        filename = os.path.join(base_location, folder_name, f\"{j}.mp3\")\n",
    "        \n",
    "        # Create the directory if it doesn't exist\n",
    "        os.makedirs(os.path.dirname(filename), exist_ok=True)\n",
    "        \n",
    "        try:\n",
    "            speak(articles_2d_list_hin[i][j], filename)\n",
    "            print(f\"Audio file {j} in {folders[j]} saved successfully.\")\n",
    "        except Exception as e:\n",
    "            print(f\"Error processing article {j}: {str(e)}\")\n"
   ]
  },
  {
   "cell_type": "markdown",
   "metadata": {},
   "source": [
    "### To save the transalted data into a txt file\n"
   ]
  },
  {
   "cell_type": "code",
   "execution_count": null,
   "metadata": {},
   "outputs": [],
   "source": [
    "file_path = r'C:\\Users\\parth\\OneDrive\\Desktop\\Blackrock\\demo_final\\data\\output.txt'\n",
    "\n",
    "# Open the file in write mode with 'utf-8' encoding\n",
    "with open(file_path, 'w', encoding='utf-8') as file:\n",
    "    for item in eng_to_hin_data:\n",
    "        file.write(item + '\\n')\n",
    "\n",
    "# Print a confirmation message\n",
    "print(f\"List elements written to '{file_path}' successfully.\")"
   ]
  }
 ],
 "metadata": {
  "kernelspec": {
   "display_name": "Python 3",
   "language": "python",
   "name": "python3"
  },
  "language_info": {
   "codemirror_mode": {
    "name": "ipython",
    "version": 3
   },
   "file_extension": ".py",
   "mimetype": "text/x-python",
   "name": "python",
   "nbconvert_exporter": "python",
   "pygments_lexer": "ipython3",
   "version": "3.11.4"
  },
  "orig_nbformat": 4
 },
 "nbformat": 4,
 "nbformat_minor": 2
}
