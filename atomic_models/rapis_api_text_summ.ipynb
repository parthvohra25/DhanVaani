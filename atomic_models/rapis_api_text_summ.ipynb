{
 "cells": [
  {
   "cell_type": "code",
   "execution_count": 17,
   "metadata": {},
   "outputs": [],
   "source": [
    "with open(r\"C:\\Users\\parth\\OneDrive\\Desktop\\Blackrock\\old_data\\extracted_data.txt\", \"r\", encoding=\"utf-8\") as f:\n",
    "        data = \" \".join(f.readlines())"
   ]
  },
  {
   "cell_type": "code",
   "execution_count": 18,
   "metadata": {},
   "outputs": [
    {
     "name": "stdout",
     "output_type": "stream",
     "text": [
      "Paycheques of CEOs in India’s largest information technology (IT) companies have continued to remain high amid a challenging demand landscape for the sector, as it weathers macro headwinds in key markets such as North America.\n",
      " \n",
      " Among the top six IT companies in India by revenue — Tata Consultancy Services, Infosys, HCLTech, Wipro, Tech Mahindra, and LTIMindtree—Wipro CEO Thierry Delaporte draws the highest pay by far, all things considered. However, his income saw a 5 percent decline year-on-year in dollar terms.\n",
      " \n",
      " Delaporte earned Rs 82.4 crore ($10 million) in FY22-23, a minor reduction from $10.5 million the year prior.\n",
      " \n",
      " Of the Rs 82.4 crore, Rs 9.6 crore was his base salary, Rs 3.57 crore was by way of allowances, Rs 10.7 crore was variable pay, Rs 34.3 crore was retirals, and Rs 24.2 crore was ‘other annual compensation,’ per Wipro’s annual report. The compensation includes Delaporte’s restricted stock units (RSU).\n",
      " \n",
      " The steepest fall in compensation among the six may be that of HCLTech CEO C Vijayakumar, who also took home the least among the top five.\n",
      " \n",
      " He earned Rs 28.4 crore in FY22-FY23, down 79 percent from the preceding year. This includes Rs 16.44 crore as base salary, Rs 11.8 crore as performance-linked bonus, and Rs 24 lakh in benefits, perquisites, and allowances.\n",
      " \n",
      " Vijayakumar's salary, however, may rebound the next year as HCLTech pays out the long-term incentive (LTI) at the end of two years. He will receive the LTI for FY21-22 and FY22-23 at the end of FY23-24.\n",
      " \n",
      " How the others fared\n",
      " \n",
      " CEO of Infosys, India’s second-largest IT company, Salil Parekh earned Rs 56.44 crore ($6.8 million) in FY22-23. Parekh earned Rs 6.67 crore in base pay, Rs 45 lakh in retiral benefits, Rs 18.73 crore in variable pay or bonus, and Rs 30.6 crore by exercising his RSUs. His pay fell 21 percent, primarily on account of exercising fewer RSUs.\n",
      " \n",
      " At India’s largest IT company Tata Consultancy Services, former CEO Rajesh Gopinathan earned Rs 29.16 crore ($3.5 million) — of which Rs 1.73 crore was the salary, Rs 2.43 crore was by way of benefits, perquisites and allowances, and Rs 25 crore were commissions.\n",
      " \n",
      " LTIMindtree CEO Debashis Chatterjee, who was appointed to the post in November 2022 post the merger of L&T and Mindtree, drew Rs 17.5 crore ($2.1 million) in salary in FY22-23, a decline of 0.36 percent. Of this, Rs 8.5 crore was the fixed component, Rs 8.8 crore was variable pay, and Rs 16 lakh was by way of perquisites.\n",
      " \n",
      " Tech Mahindra CEO CP Gurnani, who used to be among the highest paid CEOs in the industry, saw his pay halve in FY22-23 due to the fewer stock options exercised. Gurnani earned Rs 32 crore during this year. Of this, Rs 25 crore on account of ESOPs, Rs 2.7 crore as salary, and Rs 1.8 crore in commissions.\n",
      " \n",
      " Median remuneration\n",
      " \n",
      " There is also a yawning gap when it comes to CEO pay compared to the median remuneration at these companies.\n",
      " \n",
      " Delaporte makes 916.12 times the median remuneration at his firm, Parekh 627 times, Gurnani 466.99 times, and Gopinathan 427.1 times. Vijayakumar makes 253.35 times the median remuneration at HCLTech, and Chatterjee 139.92 times.\n",
      " \n",
      " Apart from median remuneration, the gap has also been widening when it comes to the pay of CEOs and freshers. In FY22, Moneycontrol reported that while the median annual pay of CEOs jumped 835 percent from Rs 3.37 crore in FY12 to Rs 31.5 crore in FY22, the median fresher package grew just 45 percent, from Rs 2.45 lakh to Rs 3.55 lakh, in the same time period.\n",
      " \n",
      " The new guard in Indian IT\n",
      " \n",
      " However, it’s been a year of change, with three new CEOs taking charge in 2023. Krithi Krithivasan took charge at TCS in June, and Mohit Joshi, Managing Director and CEO designate of Tech Mahindra, will take charge in December.\n",
      " \n",
      " Krithivasan will be paid a basic salary of Rs 10 lakh per month, which can go up to a maximum of Rs 16 lakh per month, per the company’s annual report. However, his commission, which will make up a bigger chunk of his remuneration, is subject to company performance.\n",
      " \n",
      " Joshi will receive an annual fixed compensation of Rs 6.5 crore (GBP 622,600), and an equal amount in annual variable pay. His variable pay in the first year is guaranteed. Additionally, he can get an annual overperformance bonus of up to 70 percent of his variable compensation.\n",
      " \n",
      " He is also entitled to a joining bonus of $848,951 (Rs 6.96 crore). In addition, he will get one-time stock options worth $2.5 million (Rs 20.6 crore), 60 percent of which will vest once he finishes a year with the company, and the remaining when he finishes two years.\n",
      " \n",
      " Further, he has stock options worth $3.5 million (Rs 28.8 crore) vesting in equal instalments over three consecutive years of employment, the first instalment vesting after the first year.\n",
      " \n",
      " Cumulatively, Joshi stands to make a little over Rs 46 crore in his first year as CEO.\n",
      " \n",
      " How this stacks up globally\n",
      " \n",
      " Among the other leadership changes this year is the appointment of Ravi Kumar as Cognizant CEO in January. Cognizant was once the barometer of growth for the industry, and the gap in performance between Kumar’s former employer Infosys and Cognizant has been closing.\n",
      " \n",
      " According to an exchange filing, Ravi Kumar will make an annual base salary of $1 million, annual cash incentive of $2 million, $4.6 million in RSUs vesting over a three-year period, and $6.9 million in performance-based stock units.\n",
      " \n",
      " Apart from this, he received a sign-on bonus of $7,50,000, RSUs of a total of $5 million vesting in quarterly instalments from when he started, as well as performance units of up to $7.5 million measured over a four-year performance cycle.\n",
      " \n",
      " In his first year, Kumar stands to make roughly $7 million (~Rs 57 crore) at the least from his annual base salary, RSUs as part of the new role, and his sign-on bonus.\n",
      " \n",
      " The highest-paid executive is Accenture’s Julie Sweet, who took home $33 million in FY21-22, according to the company’s filings in December 2022 (Accenture’s fiscal year runs from September 1 to August 31). Of this, $25 million was in stock awards. With a cost of living adjustment for median remuneration, Sweet made 653 times the median income of an Accenture employee. Without the adjustment, it stands at 1,506.\n",
      " \n",
      " IBM’s Arvind Krishna earned $16.58 million in 2022 — $1.5 million in base salary, $8.9 million in stock options, $8.93 million in RSUs and PSUs and $2.03 million in option awards. His annual incentives grew by more than $5,00,000 to $3.48 million. Krishna made 271 times the median remuneration at IBM.\n",
      " \n",
      " Capgemini’s chief executive Aiman Ezzat earned $2.6 million in 2022. DXC Technology’s Michael Salvino earned $20.3 mn in the 2023 fiscal.\n"
     ]
    }
   ],
   "source": [
    "print(data)"
   ]
  },
  {
   "cell_type": "code",
   "execution_count": 15,
   "metadata": {},
   "outputs": [
    {
     "name": "stdout",
     "output_type": "stream",
     "text": [
      "Summary:\n",
      "RBI Governor Shaktikanta Das said the risks to the inflation forecasts were &amp;quot; evenly balanced&amp; quot;. The month of July has witnessed accentuation of food inflation, primarily on account of vegetables. India and China lie at the heart of the geopolitical churn in the Indo-Pacific.\n"
     ]
    }
   ],
   "source": [
    "# import requests\n",
    "\n",
    "# url = \"https://gpt-summarization.p.rapidapi.com/summarize\"\n",
    "# text = data  # Update this with the text you want to summarize\n",
    "# word_limit = 600\n",
    "\n",
    "# payload = {\n",
    "#     \"text\": data,\n",
    "#     \"num_words\": word_limit\n",
    "# }\n",
    "\n",
    "# headers = {\n",
    "#     \"content-type\": \"application/json\",\n",
    "#     \"X-RapidAPI-Key\": \"a4dd9f9b8bmsh705dc762b7e92b3p18e506jsn6942bd0d7af9\",  # Replace with your actual API key\n",
    "#     \"X-RapidAPI-Host\": \"gpt-summarization.p.rapidapi.com\"\n",
    "# }\n",
    "\n",
    "# try:\n",
    "#     response = requests.post(url, json=payload, headers=headers)\n",
    "\n",
    "#     if response.status_code == 200:\n",
    "#         summary = response.json()['summary']\n",
    "#         print(\"Summary:\")\n",
    "#         print(summary)\n",
    "#     else:\n",
    "#         print(f\"Request failed with status code: {response.status_code}\")\n",
    "\n",
    "# except requests.exceptions.RequestException as e:\n",
    "#     print(f\"An error occurred: {e}\")\n"
   ]
  },
  {
   "cell_type": "code",
   "execution_count": null,
   "metadata": {},
   "outputs": [],
   "source": []
  },
  {
   "cell_type": "code",
   "execution_count": 20,
   "metadata": {},
   "outputs": [
    {
     "name": "stdout",
     "output_type": "stream",
     "text": [
      "Thierry Delaporte earned Rs 82.4 crore ($10 million) in FY22-23, a minor reduction from $10.5 million the year prior. The steepest fall in compensation among the six may be that of HCLTech CEO C Vijayakumar, who also took home the least among the top five. At India's largest IT company Tata Consultancy Services. Rajesh Gopinathan earned $3.5 crore. In FY22.5.7 crore. The new guard in Indian IT, the new guard’s pay was a new charge of 2023, but it’t been a year of new CEOs taking in 2023. However, the median pay for CEOs jumped 835 percent from Rs3.37 crore to £12.5 lakh in FY12-15.3 crore in FY23-15. The median fresher package grew just 45 percent from £15.2 crore in 2013-15-15, and the median freser package was just $15.5 percent in 2014-14-13.2.5 years. The average pay was in the year. The median pay was just over the year for the year of the year, and it was a year to $15,000 for the..5, and in the same year, the total was..1.2 million..3.1 million for the last year. In 2013-13-13, the average CEO. The total total compensation for CEOs in India was $10,000.2 billion was a total of $1.3 million. The top-10.7.5-year..2-year-old.3-year was in 2013 was the total total was a.1-year, and a.2 year was the.3 year... ‘year.5 year. 2.1 year.5 was in a year. �.2,000-year of the.2 years, the.1,000, and.3 years.. 1.5 and.4.1 billion.. The.3 billion in the.7 million. 2,000 of the top.3 per cent. 2-1 million. 1,000 year. 3,000 in total. 3.2 per cent of the total.3% of. 3-1.4 million. 5,000 and 1,500.5 per cent was in total, and 1.3,000 was in.. 5.2 and 1 million. 4.5 in. 1-year and 2.4 years. 1 million of.. 4,000 years of. 2 and 1-2.1 years. 5-1, and 2-3.4 year. 4-1 year of. 1 year. 1 in. 5 year. 5 years. 2 of. 7,000 to 1.1 and 2,..\n"
     ]
    }
   ],
   "source": [
    "import requests\n",
    "\n",
    "def summarize_text(input_text, sentence_limit=30):\n",
    "    url = \"https://gpt-summarization.p.rapidapi.com/summarize\"\n",
    "\n",
    "    payload = {\n",
    "        \"text\": input_text,\n",
    "        \"num_sentences\": sentence_limit\n",
    "    }\n",
    "\n",
    "    headers = {\n",
    "        \"content-type\": \"application/json\",\n",
    "        \"X-RapidAPI-Key\": \"a4dd9f9b8bmsh705dc762b7e92b3p18e506jsn6942bd0d7af9\",  # Replace with your actual API key\n",
    "        \"X-RapidAPI-Host\": \"gpt-summarization.p.rapidapi.com\"\n",
    "    }\n",
    "\n",
    "    try:\n",
    "        response = requests.post(url, json=payload, headers=headers)\n",
    "\n",
    "        if response.status_code == 200:\n",
    "            summary = response.json()['summary']\n",
    "            summarized_text = summary\n",
    "        else:\n",
    "            print(f\"Request failed with status code: {response.status_code}\")\n",
    "            summarized_text = None\n",
    "\n",
    "    except requests.exceptions.RequestException as e:\n",
    "        print(f\"An error occurred: {e}\")\n",
    "        summarized_text = None\n",
    "\n",
    "    return summarized_text\n",
    "\n",
    "# Example usage\n",
    "# input_text = \"Your sample text goes here...\"\n",
    "summarized_text = summarize_text(data)\n",
    "print(summarized_text)\n"
   ]
  },
  {
   "cell_type": "code",
   "execution_count": 6,
   "metadata": {},
   "outputs": [
    {
     "name": "stdout",
     "output_type": "stream",
     "text": [
      "List elements written to 'C:\\Users\\parth\\OneDrive\\Desktop\\Blackrock\\old_data\\extracted_data.txt' successfully.\n"
     ]
    }
   ],
   "source": [
    "# file_path = r\"C:\\Users\\parth\\OneDrive\\Desktop\\Blackrock\\old_data\\extracted_data.txt\"\n",
    "\n",
    "# # Open the file in write mode with 'utf-8' encoding\n",
    "# with open(file_path, 'w', encoding='utf-8') as file:\n",
    "#     # for item in summary:\n",
    "#     file.write(summary)\n",
    "\n",
    "# # Print a confirmation message\n",
    "# print(f\"List elements written to '{file_path}' successfully.\")"
   ]
  },
  {
   "cell_type": "code",
   "execution_count": 8,
   "metadata": {},
   "outputs": [
    {
     "name": "stdout",
     "output_type": "stream",
     "text": [
      "List elements written to 'C:\\Users\\parth\\OneDrive\\Desktop\\Blackrock\\old_data\\extracted_data.txt' successfully.\n"
     ]
    }
   ],
   "source": [
    "# file_path = r\"C:\\Users\\parth\\OneDrive\\Desktop\\Blackrock\\old_data\\extracted_data.txt\"\n",
    "\n",
    "# # Open the file in write mode with 'utf-8' encoding\n",
    "# with open(file_path, 'w', encoding='utf-8') as file:\n",
    "#     for i, item in enumerate(summary):\n",
    "#         if i < len(summary) - 1 and '.' in item:\n",
    "#             file.write(item + '\\n')\n",
    "#         else:\n",
    "#             file.write(item + '')\n",
    "\n",
    "# # Print a confirmation message\n",
    "# print(f\"List elements written to '{file_path}' successfully.\")\n"
   ]
  },
  {
   "cell_type": "code",
   "execution_count": 11,
   "metadata": {},
   "outputs": [
    {
     "name": "stdout",
     "output_type": "stream",
     "text": [
      "List elements written to 'C:\\Users\\parth\\OneDrive\\Desktop\\Blackrock\\old_data\\extracted_data.txt' successfully.\n"
     ]
    }
   ],
   "source": [
    "file_path_input = r\"C:\\Users\\parth\\OneDrive\\Desktop\\Blackrock\\old_data\\Sum.txt\"\n",
    "file_path_output = r\"C:\\Users\\parth\\OneDrive\\Desktop\\Blackrock\\old_data\\extracted_data.txt\"\n",
    "\n",
    "# Open the file in write mode with 'utf-8' encoding\n",
    "with open(file_path_input, 'w', encoding='utf-8') as file:\n",
    "    for item in summary:\n",
    "        # Check if a period followed by a space and a capital letter exists in the item\n",
    "        index = item.find('. ')\n",
    "        if index != -1 and index + 2 < len(item) and item[index + 2].isupper():\n",
    "            file.write(item[:index + 1] + '\\n')\n",
    "            file.write(item[index + 2:] + '\\n')\n",
    "        else:\n",
    "            file.write(item + '\\n\\n')  # Add an extra newline to separate lines\n",
    "\n",
    "# Print a confirmation message\n",
    "print(f\"List elements written to '{file_path_output}' successfully.\")\n"
   ]
  }
 ],
 "metadata": {
  "kernelspec": {
   "display_name": "Python 3",
   "language": "python",
   "name": "python3"
  },
  "language_info": {
   "codemirror_mode": {
    "name": "ipython",
    "version": 3
   },
   "file_extension": ".py",
   "mimetype": "text/x-python",
   "name": "python",
   "nbconvert_exporter": "python",
   "pygments_lexer": "ipython3",
   "version": "3.11.4"
  },
  "orig_nbformat": 4
 },
 "nbformat": 4,
 "nbformat_minor": 2
}
