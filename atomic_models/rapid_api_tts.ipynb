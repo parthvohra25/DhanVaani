{
 "cells": [
  {
   "cell_type": "code",
   "execution_count": 2,
   "metadata": {},
   "outputs": [],
   "source": [
    "import requests\n",
    "\n",
    "# Replace with the actual RapidAPI endpoint URL and headers\n",
    "url = \"https://large-text-to-speech.p.rapidapi.com/tts\"\n",
    "headers = {\n",
    "    \"content-type\": \"application/json\",\n",
    "    \"X-RapidAPI-Key\": \"a4dd9f9b8bmsh705dc762b7e92b3p18e506jsn6942bd0d7af9\",\n",
    "    \"X-RapidAPI-Host\": \"large-text-to-speech.p.rapidapi.com\"\n",
    "}\n",
    "\n",
    "# Replace with your desired text\n",
    "payload = {\n",
    "    \"text\": \"Hi my name is Parth Vohra.\"\n",
    "}\n",
    "\n",
    "# try:\n",
    "#     response = requests.post(url, json=payload, headers=headers)\n",
    "    \n",
    "#     if response.status_code == 200:\n",
    "#         # Assuming the API returns a JSON response containing the audio data or URL\n",
    "#         response_data = response.json()\n",
    "        \n",
    "#         # Process the response data as needed, such as saving audio to a file or playing it.\n",
    "#         # Here, we'll just print the response data.\n",
    "#         print(response_data)\n",
    "#     else:\n",
    "#         print(f\"Request failed with status code: {response.status_code}\")\n",
    "        \n",
    "# except requests.exceptions.RequestException as e:\n",
    "#     print(f\"An error occurred: {e}\")\n"
   ]
  },
  {
   "cell_type": "code",
   "execution_count": 7,
   "metadata": {},
   "outputs": [
    {
     "name": "stdout",
     "output_type": "stream",
     "text": [
      "No audio data found in the response.\n"
     ]
    }
   ],
   "source": [
    "try:\n",
    "    response = requests.post(url, json=payload, headers=headers)\n",
    "    \n",
    "    if response.status_code == 200:\n",
    "        # Assuming the API returns a JSON response containing the audio data or URL\n",
    "        response_data = response.json()\n",
    "        \n",
    "        # Check if 'audio' key exists in the response_data dictionary\n",
    "        if 'audio' in response_data and response_data['audio'] is not None:\n",
    "            audio_data = response_data['audio']\n",
    "            \n",
    "            # Save the audio data to a file\n",
    "            audio_file_path = 'output_audio.mp3'\n",
    "            with open(audio_file_path, 'wb') as f:\n",
    "                f.write(audio_data)\n",
    "                \n",
    "            save_path = r\"C:\\Users\\parth\\OneDrive\\Desktop\\Blackrock\"\n",
    "            print(f\"Audio saved to: {save_path}\")\n",
    "            \n",
    "        else:\n",
    "            print(\"No audio data found in the response.\")\n",
    "        \n",
    "    else:\n",
    "        print(f\"Request failed with status code: {response.status_code}\")\n",
    "        \n",
    "except requests.exceptions.RequestException as e:\n",
    "    print(f\"An error occurred: {e}\")\n"
   ]
  },
  {
   "cell_type": "code",
   "execution_count": 8,
   "metadata": {},
   "outputs": [
    {
     "name": "stdout",
     "output_type": "stream",
     "text": [
      "{\"id\": \"67038fd1-9c34-4d62-b4c7-3312a9ac643d\", \"status\": \"processing\", \"eta\": 15, \"text\": \"The technological singularity or simply the singularity is a hypothetical point in time at which technological growth becomes uncontrollable and irreversible, \\nresulting in unforeseeable changes to human civilization. According to the most popular version of the singularity hypothesis, called intelligence explosion, \\nan upgradable intelligent agent will eventually enter a \\\"runaway reaction\\\" of self-improvement cycles, each new and more intelligent \\ngeneration appearing more and more rapidly, causing an \\\"explosion\\\" in intelligence and resulting in a powerful superintelligence that qualitatively \\nfar surpasses all human intelligence.\\n\"}\n",
      "Waiting 15 seconds for the job to finish...\n",
      "File output.wav saved!\n"
     ]
    }
   ],
   "source": [
    "import requests\n",
    "import json\n",
    "import time\n",
    "\n",
    "# API website to get your (free) key: https://rapidapi.com/k_1/api/large-text-to-speech/\n",
    "\n",
    "text = \"\"\"The technological singularity or simply the singularity is a hypothetical point in time at which technological growth becomes uncontrollable and irreversible, \n",
    "resulting in unforeseeable changes to human civilization. According to the most popular version of the singularity hypothesis, called intelligence explosion, \n",
    "an upgradable intelligent agent will eventually enter a \"runaway reaction\" of self-improvement cycles, each new and more intelligent \n",
    "generation appearing more and more rapidly, causing an \"explosion\" in intelligence and resulting in a powerful superintelligence that qualitatively \n",
    "far surpasses all human intelligence.\n",
    "\"\"\"\n",
    "\n",
    "url = \"https://large-text-to-speech.p.rapidapi.com/tts\"\n",
    "payload = {\"text\": text}\n",
    "\n",
    "headers = {\n",
    "    'content-type': \"application/json\",\n",
    "    'x-rapidapi-host': \"large-text-to-speech.p.rapidapi.com\",\n",
    "    'x-rapidapi-key': \"a4dd9f9b8bmsh705dc762b7e92b3p18e506jsn6942bd0d7af9\"\n",
    "    }\n",
    "\n",
    "# POST request\n",
    "response = requests.request(\"POST\", url, data=json.dumps(payload), headers=headers)\n",
    "print(response.text)\n",
    "\n",
    "# get id and eta of the job from the response\n",
    "id = json.loads(response.text)['id']\n",
    "eta = json.loads(response.text)['eta']\n",
    "\n",
    "print(f'Waiting {eta} seconds for the job to finish...')\n",
    "time.sleep(eta)\n",
    "\n",
    "# GET the result from the API\n",
    "response = requests.request(\"GET\", url, headers=headers, params={'id': id})\n",
    "# if url not returned yet, wait and try again\n",
    "while \"url\" not in json.loads(response.text):\n",
    "    response = requests.get(url, headers=headers, params={'id': id})\n",
    "    time.sleep(5)\n",
    "# if no error, get url and download the audio file\n",
    "if not \"error\" in json.loads(response.text):\n",
    "    result_url = json.loads(response.text)['url']\n",
    "    # download the waw file from results_url\n",
    "    response = requests.get(result_url)\n",
    "    # save the waw file to disk\n",
    "    with open('output.wav', 'wb') as f:\n",
    "        f.write(response.content)\n",
    "    print(\"File output.wav saved!\")\n",
    "else:\n",
    "    print(json.loads(response.text)['error'])"
   ]
  }
 ],
 "metadata": {
  "kernelspec": {
   "display_name": "Python 3",
   "language": "python",
   "name": "python3"
  },
  "language_info": {
   "codemirror_mode": {
    "name": "ipython",
    "version": 3
   },
   "file_extension": ".py",
   "mimetype": "text/x-python",
   "name": "python",
   "nbconvert_exporter": "python",
   "pygments_lexer": "ipython3",
   "version": "3.11.4"
  },
  "orig_nbformat": 4
 },
 "nbformat": 4,
 "nbformat_minor": 2
}
