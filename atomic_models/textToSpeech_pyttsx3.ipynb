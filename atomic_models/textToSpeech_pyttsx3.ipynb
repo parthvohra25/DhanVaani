{
 "cells": [
  {
   "cell_type": "code",
   "execution_count": 2,
   "metadata": {},
   "outputs": [],
   "source": [
    "import pyttsx3"
   ]
  },
  {
   "cell_type": "code",
   "execution_count": 4,
   "metadata": {},
   "outputs": [],
   "source": [
    "text_speech = pyttsx3.init()\n",
    "\n",
    "with open(r\"C:\\\\Users\\\\parth\\\\OneDrive\\\\Desktop\\\\Sum.txt\", \"r\", encoding=\"utf-8\", errors=\"ignore\") as f:\n",
    "        text = \" \".join(f.readlines())"
   ]
  },
  {
   "cell_type": "code",
   "execution_count": 5,
   "metadata": {},
   "outputs": [],
   "source": [
    "answer = text \n",
    "# nput(\"What you want to convert to speech: \")\n",
    "text_speech.say(answer)\n",
    "text_speech.runAndWait()"
   ]
  }
 ],
 "metadata": {
  "kernelspec": {
   "display_name": "Python 3",
   "language": "python",
   "name": "python3"
  },
  "language_info": {
   "codemirror_mode": {
    "name": "ipython",
    "version": 3
   },
   "file_extension": ".py",
   "mimetype": "text/x-python",
   "name": "python",
   "nbconvert_exporter": "python",
   "pygments_lexer": "ipython3",
   "version": "3.11.4"
  },
  "orig_nbformat": 4
 },
 "nbformat": 4,
 "nbformat_minor": 2
}
