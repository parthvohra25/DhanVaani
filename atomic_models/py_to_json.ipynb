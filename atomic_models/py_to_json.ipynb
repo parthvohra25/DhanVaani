{
 "cells": [
  {
   "cell_type": "code",
   "execution_count": 3,
   "metadata": {},
   "outputs": [
    {
     "name": "stdout",
     "output_type": "stream",
     "text": [
      "JSON data written to article_eng.json\n"
     ]
    }
   ],
   "source": [
    "import json\n",
    "data_3d_list = [\n",
    "    [\n",
    "        [\"website\", \"article_headline\", \"articlebody\"],\n",
    "        [\"website\", \"article_headline\", \"articlebody\"]\n",
    "    ],\n",
    "    [\n",
    "        [\"website\", \"article_headline\", \"articlebody\"],\n",
    "        [\"website\", \"article_headline\", \"articlebody\"]\n",
    "    ]\n",
    "]\n",
    "\n",
    "result = {}\n",
    "\n",
    "for section_idx, section in enumerate(data_3d_list):\n",
    "    result[section_idx] = []\n",
    "    for entry in section:\n",
    "        if len(entry) >= 3:\n",
    "            result[section_idx].append({\n",
    "                \"field\": entry[1],  # article_headline\n",
    "                \"text\": entry[2]    # articlebody\n",
    "            })\n",
    "\n",
    "json_data = json.dumps(result, indent=4)\n",
    "\n",
    "# Write JSON data to a new file\n",
    "output_file = \"article_eng.json\"\n",
    "with open(output_file, \"w\") as file:\n",
    "    file.write(json_data)\n",
    "\n",
    "print(f\"JSON data written to {output_file}\")\n"
   ]
  },
  {
   "cell_type": "code",
   "execution_count": null,
   "metadata": {},
   "outputs": [],
   "source": []
  }
 ],
 "metadata": {
  "kernelspec": {
   "display_name": "Python 3",
   "language": "python",
   "name": "python3"
  },
  "language_info": {
   "codemirror_mode": {
    "name": "ipython",
    "version": 3
   },
   "file_extension": ".py",
   "mimetype": "text/x-python",
   "name": "python",
   "nbconvert_exporter": "python",
   "pygments_lexer": "ipython3",
   "version": "3.11.4"
  },
  "orig_nbformat": 4
 },
 "nbformat": 4,
 "nbformat_minor": 2
}
